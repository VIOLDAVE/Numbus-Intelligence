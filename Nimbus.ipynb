{
 "cells": [
  {
   "cell_type": "code",
   "execution_count": 2,
   "metadata": {},
   "outputs": [
    {
     "name": "stdout",
     "output_type": "stream",
     "text": [
      "A: 9, C: 63\n",
      "A: 6, C: 36\n",
      "A: 7, C: 35\n",
      "A: 3, C: 3\n",
      "A: 1, C: 9\n",
      "A: 3, C: 21\n",
      "A: 4, C: 28\n",
      "A: 2, C: 16\n",
      "A: 1, C: 5\n",
      "A: 8, C: 48\n",
      "A: 4, C: 32\n",
      "A: 7, C: 7\n",
      "A: 2, C: 18\n",
      "A: 8, C: 16\n",
      "A: 8, C: 64\n",
      "A: 8, C: 56\n",
      "A: 7, C: 28\n",
      "A: 5, C: 5\n",
      "A: 7, C: 63\n",
      "A: 3, C: 24\n",
      "A: 1, C: 3\n",
      "A: 2, C: 10\n",
      "A: 4, C: 4\n",
      "Success! A: 4, B: 1\n"
     ]
    }
   ],
   "source": [
    "import random\n",
    "#import library module random to generate radom numbers\n",
    "def mult_success(): #' defining the function to'\n",
    "    while True: #Loop to iterate through the values\n",
    "        A = random.randint(1, 9)\n",
    "        B = random.randint(1, 9)\n",
    "        C = A * B\n",
    "        \n",
    "        print(f\"A: {A}, C: {C}\")\n",
    "        #'check for for the codition if its true  or not'\n",
    "        if C == 4:\n",
    "            print(f\"Success! A: {A}, B: {B}\")\n",
    "            break\n",
    "\n",
    "# Call the function to print the result\n",
    "mult_success()"
   ]
  },
  {
   "cell_type": "code",
   "execution_count": null,
   "metadata": {},
   "outputs": [],
   "source": []
  }
 ],
 "metadata": {
  "kernelspec": {
   "display_name": "profiling_env",
   "language": "python",
   "name": "python3"
  },
  "language_info": {
   "codemirror_mode": {
    "name": "ipython",
    "version": 3
   },
   "file_extension": ".py",
   "mimetype": "text/x-python",
   "name": "python",
   "nbconvert_exporter": "python",
   "pygments_lexer": "ipython3",
   "version": "3.10.15"
  }
 },
 "nbformat": 4,
 "nbformat_minor": 2
}
